{
 "cells": [
  {
   "cell_type": "code",
   "execution_count": 1,
   "id": "1cee7dc1-810b-4c3e-8c60-24c3e688eaa5",
   "metadata": {},
   "outputs": [],
   "source": [
    "from rdkit import Chem\n",
    "import os\n"
   ]
  },
  {
   "cell_type": "code",
   "execution_count": 2,
   "id": "f2774003-d89b-474d-857f-0922676fa50d",
   "metadata": {},
   "outputs": [],
   "source": [
    "# Load ligand structures from MOL2 files (keeping hydrogen atoms)\n",
    "ligA = Chem.MolFromMol2File('input/ligA.mol2', removeHs=False)\n",
    "ligB = Chem.MolFromMol2File('input/ligB.mol2', removeHs=False)\n"
   ]
  },
  {
   "cell_type": "code",
   "execution_count": 3,
   "id": "802c7f6c-47ec-4d97-b3ca-39b3abd8d6a4",
   "metadata": {},
   "outputs": [],
   "source": [
    "# Create output directories for storing the processed ligand files\n",
    "! mkdir -p output2/data"
   ]
  },
  {
   "cell_type": "code",
   "execution_count": 4,
   "id": "9aab8100-0c78-4230-be19-0ae84d2df9dc",
   "metadata": {},
   "outputs": [],
   "source": [
    "# Generate topology files for ligA using acpype with GAFF2 parameters\n",
    "! acpype -i input/ligA.mol2 -b ligA -c bcc -a gaff2 -o gmx -w"
   ]
  },
  {
   "cell_type": "code",
   "execution_count": 5,
   "id": "603fdbd2-3077-4881-9fe8-187b2dafabf4",
   "metadata": {},
   "outputs": [],
   "source": [
    "# Move the generated topology file for ligA to the output directory and clean up intermediate files\n",
    "! mv ligA.acpype/ligA_GMX.itp output2/data/ligA.itp\n",
    "! rm -r ligA.acpype\n"
   ]
  },
  {
   "cell_type": "code",
   "execution_count": null,
   "id": "8a6d2913-fbb8-4222-9498-c6fa707ff6fa",
   "metadata": {},
   "outputs": [],
   "source": []
  }
 ],
 "metadata": {
  "kernelspec": {
   "display_name": "ACPYPE",
   "language": "python",
   "name": "acpype"
  },
  "language_info": {
   "codemirror_mode": {
    "name": "ipython",
    "version": 3
   },
   "file_extension": ".py",
   "mimetype": "text/x-python",
   "name": "python",
   "nbconvert_exporter": "python",
   "pygments_lexer": "ipython3",
   "version": "3.13.5"
  }
 },
 "nbformat": 4,
 "nbformat_minor": 5
}
